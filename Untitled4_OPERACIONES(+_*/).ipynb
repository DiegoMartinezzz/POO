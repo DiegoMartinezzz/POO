{
  "nbformat": 4,
  "nbformat_minor": 0,
  "metadata": {
    "colab": {
      "provenance": [],
      "authorship_tag": "ABX9TyO03vQ3CkVP6fhf2540RjW2",
      "include_colab_link": true
    },
    "kernelspec": {
      "name": "python3",
      "display_name": "Python 3"
    },
    "language_info": {
      "name": "python"
    }
  },
  "cells": [
    {
      "cell_type": "markdown",
      "metadata": {
        "id": "view-in-github",
        "colab_type": "text"
      },
      "source": [
        "<a href=\"https://colab.research.google.com/github/DiegoMartinezzz/POO/blob/main/Untitled4_OPERACIONES(%2B_*/).ipynb\" target=\"_parent\"><img src=\"https://colab.research.google.com/assets/colab-badge.svg\" alt=\"Open In Colab\"/></a>"
      ]
    },
    {
      "cell_type": "markdown",
      "source": [],
      "metadata": {
        "id": "kfC66l-2xFNs"
      }
    },
    {
      "cell_type": "code",
      "execution_count": null,
      "metadata": {
        "id": "19GnpdKyzpRM",
        "colab": {
          "base_uri": "https://localhost:8080/"
        },
        "outputId": "beeed45a-5a5d-4fc4-8a10-745c436dcccb"
      },
      "outputs": [
        {
          "output_type": "stream",
          "name": "stdout",
          "text": [
            "elige una opcion de operacion\n",
            "1. Suma\n",
            "2. Resta\n",
            "3. Multiplicacion\n",
            "4. division\n",
            "opcion: 3\n",
            "ingrese el primer numero:6\n",
            "ingrese el segundo numero6\n",
            "La multiplicacion de los 2 numeros es de:  36\n"
          ]
        }
      ],
      "source": [
        "class operaciones():\n",
        "  def __init__(self):\n",
        "    self.valor1=0\n",
        "    self.valor2=0\n",
        "    self.resultado=0\n",
        "  def op(self):\n",
        "    print(\"elige una opcion de operacion\")\n",
        "    print(\"1. Suma\")\n",
        "    print(\"2. Resta\")\n",
        "    print(\"3. Multiplicacion\")\n",
        "    print(\"4. division\")\n",
        "    r=int(input(\"opcion: \"))\n",
        "    return(r)\n",
        "  def suma(self):\n",
        "    res=self.valor1+self.valor2\n",
        "    return(res)\n",
        "  def resta(self):\n",
        "    res=self.valor1-self.valor2\n",
        "    return(res)\n",
        "  def multiplicacion(self):\n",
        "    res=self.valor1*self.valor2\n",
        "    return(res)\n",
        "  def division(self):\n",
        "    res=self.valor1/self.valor2\n",
        "    return(res)\n",
        "obj=operaciones()\n",
        "s=obj.op()\n",
        "if s==1:\n",
        "  obj.valor1=int(input(\"ingrese el primer valor:\"))\n",
        "  obj.valor2=int(input(\"ingrese el segundo valor:\"))\n",
        "  resultado=obj.valor1+obj.valor2\n",
        "  print(\"La suma de los 2 numeros es de: \",resultado)\n",
        "elif s==2:\n",
        "  obj.valor1=int(input(\"ingrese el primer numero:\"))\n",
        "  obj.valor2=int(input(\"ingrese el segundo numero\"))\n",
        "  resultado=obj.valor1-obj.valor2\n",
        "  print(\"La resta de los 2 numeros es de: \",resultado)\n",
        "elif s==3:\n",
        "  obj.valor1=int(input(\"ingrese el primer numero:\"))\n",
        "  obj.valor2=int(input(\"ingrese el segundo numero\"))\n",
        "  resultado=obj.valor1*obj.valor2\n",
        "  print(\"La multiplicacion de los 2 numeros es de: \",resultado)\n",
        "elif s==4:\n",
        "  obj.valor1=int(input(\"ingrese el primer numero:\"))\n",
        "  obj.valor2=int(input(\"ingrese el segundo numero\"))\n",
        "  resultado=obj.valor1/obj.valor2\n",
        "  print(\"la division de los 2 numeros es de: \",resultado)\n",
        "else:\n",
        "  print(\"opcion no valida\")\n"
      ]
    }
  ]
}