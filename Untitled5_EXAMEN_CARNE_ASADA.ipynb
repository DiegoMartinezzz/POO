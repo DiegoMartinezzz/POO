{
  "nbformat": 4,
  "nbformat_minor": 0,
  "metadata": {
    "colab": {
      "provenance": [],
      "authorship_tag": "ABX9TyP3SZRTfAU89XNOoHoCKptW",
      "include_colab_link": true
    },
    "kernelspec": {
      "name": "python3",
      "display_name": "Python 3"
    },
    "language_info": {
      "name": "python"
    }
  },
  "cells": [
    {
      "cell_type": "markdown",
      "metadata": {
        "id": "view-in-github",
        "colab_type": "text"
      },
      "source": [
        "<a href=\"https://colab.research.google.com/github/DiegoMartinezzz/POO/blob/main/Untitled5_EXAMEN_CARNE_ASADA.ipynb\" target=\"_parent\"><img src=\"https://colab.research.google.com/assets/colab-badge.svg\" alt=\"Open In Colab\"/></a>"
      ]
    },
    {
      "cell_type": "markdown",
      "source": [
        "CARNE ASADA(CONVIVIO) EXAMEN |HECHO POR DIEGO ANTONIO MARTINEZ JUANILLO | 11/02/2025"
      ],
      "metadata": {
        "id": "1VBREGgdtNzy"
      }
    },
    {
      "cell_type": "code",
      "execution_count": 6,
      "metadata": {
        "id": "ZmBcKumy3hCw",
        "colab": {
          "base_uri": "https://localhost:8080/"
        },
        "outputId": "1eafd0d6-97f0-4352-ac96-29250f89303d"
      },
      "outputs": [
        {
          "output_type": "stream",
          "name": "stdout",
          "text": [
            "cantidad hombre: 10\n",
            "cantidad mujeres: 5\n",
            "El total de carne es de:  10.5 Kg\n",
            "El total de los que usaran complementos es: 9\n",
            "El total de carbon es: 4 KG\n",
            "El total de refresco es: 8 L\n",
            "La coperacion sera de:  $ 3.8333333333333335\n"
          ]
        }
      ],
      "source": [
        "import math\n",
        "import random\n",
        "class Convivio:\n",
        "  def __init__(self):\n",
        "    self.tInvitados=0\n",
        "    self.carbon=0\n",
        "    self.carne=0\n",
        "    self.refresco=0\n",
        "    self.h=0\n",
        "    self.m=0\n",
        "    self.complementos=25\n",
        "    self.coop=0\n",
        "    self.costosA=160\n",
        "    self.costosB=196\n",
        "    self.costosT=25\n",
        "    self.costosCh=25\n",
        "    self.costosRef=22\n",
        "    self.costosPol=50\n",
        "    self.costosSal=30\n",
        "    self.costoTotalCarne=0\n",
        "  def invitados(self):\n",
        "    self.h=int(input(\"cantidad hombre: \"))\n",
        "    self.m=int(input(\"cantidad mujeres: \"))\n",
        "    self.tInvitados=self.h+self.m\n",
        "  def cantCarne(self):\n",
        "    self.carne=(self.h*.8)+(self.m*.5)\n",
        "    self.costosA=self.carne*.30\n",
        "    self.costosB=self.carne*.30\n",
        "    self.costosCh=self.carne*.15\n",
        "    self.costosPol=self.carne*.15\n",
        "    self.costosSal=self.carne*.10\n",
        "    print(\"El total de carne es de: \",self.carne,\"Kg\")\n",
        "  def cantComp(self):\n",
        "        n=random.randint(1,self.tInvitados)\n",
        "        print(\"El total de los que usaran complementos es:\",n)\n",
        "\n",
        "  def refrescos(self):\n",
        "        self.conRef= 500\n",
        "        self.refrescoMl= (self.tInvitados * self.conRef)\n",
        "        self.refresco= math.ceil(self.refrescoMl / 1000)\n",
        "        print(\"El total de refresco es:\", self.refresco ,\"L\")\n",
        "\n",
        "\n",
        "  def cantCarbon(self):\n",
        "        self.capCostal= 3\n",
        "        self.carbon= math.ceil(self.carne / self.capCostal)\n",
        "        print(\"El total de carbon es:\", self.carbon ,\"KG\")\n",
        "\n",
        "  def coperacion(self):\n",
        "        self.cosTo= (self.costosA + self.costosB + self.costosT + self.costosCh + self.costosRef + self.costosPol + self.costosSal)\n",
        "        self.coop= (self.cosTo / self.tInvitados)\n",
        "        print(\"La coperacion sera de: \",\"$\" ,self.coop)\n",
        "\n",
        "object = Convivio()\n",
        "object.invitados()\n",
        "object.cantCarne()\n",
        "object.cantComp()\n",
        "object.cantCarbon()\n",
        "object.refrescos()\n",
        "object.coperacion()"
      ]
    }
  ]
}