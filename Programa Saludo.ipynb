{
  "nbformat": 4,
  "nbformat_minor": 0,
  "metadata": {
    "colab": {
      "provenance": [],
      "authorship_tag": "ABX9TyMP7IOebNh/UNdRZjtsXHoO",
      "include_colab_link": true
    },
    "kernelspec": {
      "name": "python3",
      "display_name": "Python 3"
    },
    "language_info": {
      "name": "python"
    }
  },
  "cells": [
    {
      "cell_type": "markdown",
      "metadata": {
        "id": "view-in-github",
        "colab_type": "text"
      },
      "source": [
        "<a href=\"https://colab.research.google.com/github/DiegoMartinezzz/POO/blob/main/Programa%20Saludo.ipynb\" target=\"_parent\"><img src=\"https://colab.research.google.com/assets/colab-badge.svg\" alt=\"Open In Colab\"/></a>"
      ]
    },
    {
      "cell_type": "markdown",
      "source": [
        "Programa | Hecho por Diego Antonio Martinez Juanillo | 06/02/2025"
      ],
      "metadata": {
        "id": "S8Dr7ICu3NaH"
      }
    },
    {
      "cell_type": "code",
      "source": [
        "class Saludo:\n",
        "  def __init__(self):\n",
        "    self.nombre=\"Diego Antonio\"\n",
        "\n",
        "  def Saludos(self):\n",
        "    print(\"hola\",self.nombre)\n"
      ],
      "metadata": {
        "id": "BTX6DAcJ3OHp"
      },
      "execution_count": 9,
      "outputs": []
    },
    {
      "cell_type": "code",
      "source": [
        "x=Saludo()\n",
        "x.Saludos()"
      ],
      "metadata": {
        "id": "MAZ_Te-e81x4",
        "outputId": "17358b76-502a-4027-d75b-c1887c28e1cc",
        "colab": {
          "base_uri": "https://localhost:8080/"
        }
      },
      "execution_count": 10,
      "outputs": [
        {
          "output_type": "stream",
          "name": "stdout",
          "text": [
            "hola Diego Antonio\n"
          ]
        }
      ]
    }
  ]
}