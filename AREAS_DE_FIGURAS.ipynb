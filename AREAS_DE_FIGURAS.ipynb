{
  "nbformat": 4,
  "nbformat_minor": 0,
  "metadata": {
    "colab": {
      "provenance": [],
      "authorship_tag": "ABX9TyNFlxARxoqqZrLO4Md6DxaM",
      "include_colab_link": true
    },
    "kernelspec": {
      "name": "python3",
      "display_name": "Python 3"
    },
    "language_info": {
      "name": "python"
    }
  },
  "cells": [
    {
      "cell_type": "markdown",
      "metadata": {
        "id": "view-in-github",
        "colab_type": "text"
      },
      "source": [
        "<a href=\"https://colab.research.google.com/github/DiegoMartinezzz/POO/blob/main/AREAS_DE_FIGURAS.ipynb\" target=\"_parent\"><img src=\"https://colab.research.google.com/assets/colab-badge.svg\" alt=\"Open In Colab\"/></a>"
      ]
    },
    {
      "cell_type": "markdown",
      "source": [
        "AREAS DE FIGURAS | HECHO POR DIEGO ANTONIO MARTINEZ JUANILLO | 13/02/25"
      ],
      "metadata": {
        "id": "BeA0iWDsOGY-"
      }
    },
    {
      "cell_type": "code",
      "execution_count": 11,
      "metadata": {
        "colab": {
          "base_uri": "https://localhost:8080/"
        },
        "id": "8HCvKy3zDgBM",
        "outputId": "39c1699b-51bf-4673-849b-c46dee142143"
      },
      "outputs": [
        {
          "output_type": "stream",
          "name": "stdout",
          "text": [
            "elige una opcion\n",
            "1. circulo\n",
            "2. trapecio\n",
            "3. rectangulo\n",
            "opcion: 1\n",
            "ingresa el valor del radio5\n",
            "el area del circulo es de:  78.53999999999999\n"
          ]
        }
      ],
      "source": [
        "class figuras():\n",
        "  def __init__(self):\n",
        "    self.a=0\n",
        "    self.b=0\n",
        "    self.c=0\n",
        "  def op(self):\n",
        "    print(\"elige una opcion\")\n",
        "    print(\"1. circulo\")\n",
        "    print(\"2. trapecio\")\n",
        "    print(\"3. rectangulo\")\n",
        "    r=int(input(\"opcion: \"))\n",
        "    return (r)\n",
        "  def circulo(self,r):\n",
        "    area=3.1416*(r**2)\n",
        "    return(area)\n",
        "  def trapecio(self,b1,b2,h):\n",
        "    area=((b1+b2)*h)/2\n",
        "    return(area)\n",
        "  def rectangulo(self,b,h):\n",
        "    area=b*h\n",
        "    return(area)\n",
        "obj=figuras()\n",
        "s=obj.op()\n",
        "if s==1:\n",
        "  obj.a=float(input(\"ingresa el valor del radio\"))\n",
        "  resultado=obj.circulo(obj.a)\n",
        "  print(\"el area del circulo es de: \",resultado)\n",
        "elif s==2:\n",
        "  obj.a=float(input(\"ingresa el valor de la base mayor\"))\n",
        "  obj.b=float(input(\"ingresa el valor de la base menor\"))\n",
        "  obj.c=float(input(\"ingresa el valor de la altura\"))\n",
        "  resultado=obj.trapecio(obj.a,obj.b,obj.c)\n",
        "  print(\"el area del trapecio es de: \",resultado)\n",
        "elif s==3:\n",
        "  obj.a=float(input(\"ingresa el valor de la base\"))\n",
        "  obj.b=float(input(\"ingresa el valor de la altura\"))\n",
        "  resultado=obj.rectangulo(obj.a,obj.b)\n",
        "  print(\"el area del rectangulo es de:\",resultado)"
      ]
    }
  ]
}